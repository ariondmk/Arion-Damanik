{
  "nbformat": 4,
  "nbformat_minor": 0,
  "metadata": {
    "colab": {
      "name": "Salinan dari Copy of Untitled0.ipynb",
      "provenance": [],
      "include_colab_link": true
    },
    "kernelspec": {
      "name": "python3",
      "display_name": "Python 3"
    }
  },
  "cells": [
    {
      "cell_type": "markdown",
      "metadata": {
        "id": "view-in-github",
        "colab_type": "text"
      },
      "source": [
        "<a href=\"https://colab.research.google.com/github/ariondmk/Arion-Damanik/blob/main/ARION%20DAMANIK%20PYTHON%20TUGAS%2011.ipynb\" target=\"_parent\"><img src=\"https://colab.research.google.com/assets/colab-badge.svg\" alt=\"Open In Colab\"/></a>"
      ]
    },
    {
      "cell_type": "code",
      "metadata": {
        "id": "XsJ-bKeYBAUH",
        "colab": {
          "base_uri": "https://localhost:8080/"
        },
        "outputId": "4ad9449f-02b2-46cf-e1aa-6774aae4b1af"
      },
      "source": [
        "from google.colab import drive\n",
        "drive.mount('/content/drive')"
      ],
      "execution_count": 243,
      "outputs": [
        {
          "output_type": "stream",
          "text": [
            "Drive already mounted at /content/drive; to attempt to forcibly remount, call drive.mount(\"/content/drive\", force_remount=True).\n"
          ],
          "name": "stdout"
        }
      ]
    },
    {
      "cell_type": "code",
      "metadata": {
        "colab": {
          "base_uri": "https://localhost:8080/"
        },
        "id": "7P0DhsyuVapK",
        "outputId": "581c2c4f-f615-4d6b-cf07-c4f5b2800f52"
      },
      "source": [
        "cd /content/drive/MyDrive/Colab Notebooks"
      ],
      "execution_count": 244,
      "outputs": [
        {
          "output_type": "stream",
          "text": [
            "/content/drive/MyDrive/Colab Notebooks\n"
          ],
          "name": "stdout"
        }
      ]
    },
    {
      "cell_type": "code",
      "metadata": {
        "id": "nlqjJEkCViVI"
      },
      "source": [
        "# TUGAS PYTHON ARION DAMANIK PRESENSI MINGGU 11"
      ],
      "execution_count": 245,
      "outputs": []
    },
    {
      "cell_type": "code",
      "metadata": {
        "id": "z7G4uSofVoxx"
      },
      "source": [
        "from keras.models import Sequential\n",
        "from keras.layers import Convolution2D, MaxPooling2D\n",
        "from keras.layers.core import Activation, Flatten, Dense\n",
        "from keras.optimizers import Adam\n",
        "from sklearn.preprocessing import LabelBinarizer\n",
        "from sklearn.model_selection import train_test_split\n",
        "from sklearn.metrics import classification_report\n",
        "import matplotlib.pyplot as plt\n",
        "from PIL import Image\n",
        "from imutils import paths\n",
        "import numpy as np\n",
        "import os\n",
        "import cv2"
      ],
      "execution_count": 246,
      "outputs": []
    },
    {
      "cell_type": "code",
      "metadata": {
        "colab": {
          "base_uri": "https://localhost:8080/"
        },
        "id": "FQywuryJVq7j",
        "outputId": "61647680-852a-4a42-f18c-1189bea28a50"
      },
      "source": [
        "print(\"[INFO] Loading Images ...\")\n",
        "image_paths = paths.list_images('3scene')\n",
        "data = []\n",
        "labels = []\n",
        "\n",
        "for image_path in image_paths :\n",
        "  image = Image.open(image_path)\n",
        "  image = np.array(image.resize((128,128))) / 255.0\n",
        "  data.append(image)\n",
        "  \n",
        "  label = image_path.split(os.path.sep)[-2]\n",
        "  labels.append(label)"
      ],
      "execution_count": 247,
      "outputs": [
        {
          "output_type": "stream",
          "text": [
            "[INFO] Loading Images ...\n"
          ],
          "name": "stdout"
        }
      ]
    },
    {
      "cell_type": "code",
      "metadata": {
        "id": "t6w0V_QsV19g"
      },
      "source": [
        "lb = LabelBinarizer()\n",
        "labels = lb.fit_transform(labels)\n",
        "(trainX, testX, trainY, testY) = train_test_split(np.array(data), np.array(labels), test_size=0.3, shuffle=True)"
      ],
      "execution_count": 248,
      "outputs": []
    },
    {
      "cell_type": "code",
      "metadata": {
        "id": "OXFBjEJvV4PC"
      },
      "source": [
        "model = Sequential()\n",
        "model.add(Convolution2D(64, 3, 3, activation='relu', input_shape=(128, 128, 3)))\n",
        "model.add(MaxPooling2D(2, 2))\n",
        "model.add(Convolution2D(128, 3, 3, activation='relu'))\n",
        "model.add(MaxPooling2D(2, 2))\n",
        "\n",
        "model.add(Flatten())\n",
        "model.add(Dense(128, activation='relu'))\n",
        "model.add(Dense(64, activation='relu'))\n",
        "model.add(Dense(64, activation='relu'))\n",
        "model.add(Dense(32, activation='relu')) \n",
        "model.add(Dense(5, activation='softmax'))"
      ],
      "execution_count": 249,
      "outputs": []
    },
    {
      "cell_type": "code",
      "metadata": {
        "id": "bx4Z2uU6V6Zq"
      },
      "source": [
        "#  model = Sequential(\n",
        "#      [\n",
        "#     Flatten(input_shape=(64*64*3,)),\n",
        "#      Dense(144, activation=\"relu\", name=\"layer1\"),\n",
        "#      Dense(24, activation=\"relu\", name=\"layer2\"),\n",
        "#      Dense(24, activation=\"relu\", name=\"layer3\"),\n",
        "#      Dense(24, activation=\"relu\", name=\"layer4\"),\n",
        "#      Dense(3, activation=\"softmax\", name=\"layer5\"),\n",
        "#      ]\n",
        "#  )"
      ],
      "execution_count": 250,
      "outputs": []
    },
    {
      "cell_type": "code",
      "metadata": {
        "colab": {
          "base_uri": "https://localhost:8080/"
        },
        "id": "ZoZDXn7RV-Ym",
        "outputId": "87ece8cb-501f-42b3-f348-6d5550219fad"
      },
      "source": [
        "print(\"[INFO] training network ...\")\n",
        "opt = Adam(lr=1e-3, decay=1e-3 / 50)\n",
        "model.compile(loss=\"categorical_crossentropy\", optimizer=opt, metrics=[\"accuracy\"])\n",
        "H = model.fit(trainX, trainY, validation_data=(testX, testY), epochs=200, batch_size=32)"
      ],
      "execution_count": 251,
      "outputs": [
        {
          "output_type": "stream",
          "text": [
            "[INFO] training network ...\n",
            "Epoch 1/200\n",
            "13/13 [==============================] - 1s 83ms/step - loss: 1.6111 - accuracy: 0.2230 - val_loss: 1.6074 - val_accuracy: 0.2557\n",
            "Epoch 2/200\n",
            "13/13 [==============================] - 1s 71ms/step - loss: 1.5990 - accuracy: 0.2721 - val_loss: 1.6054 - val_accuracy: 0.1989\n",
            "Epoch 3/200\n",
            "13/13 [==============================] - 1s 70ms/step - loss: 1.5765 - accuracy: 0.2892 - val_loss: 1.5965 - val_accuracy: 0.2045\n",
            "Epoch 4/200\n",
            "13/13 [==============================] - 1s 71ms/step - loss: 1.5434 - accuracy: 0.2917 - val_loss: 1.6156 - val_accuracy: 0.2102\n",
            "Epoch 5/200\n",
            "13/13 [==============================] - 1s 70ms/step - loss: 1.4935 - accuracy: 0.2917 - val_loss: 1.4793 - val_accuracy: 0.2955\n",
            "Epoch 6/200\n",
            "13/13 [==============================] - 1s 71ms/step - loss: 1.3668 - accuracy: 0.3799 - val_loss: 1.3678 - val_accuracy: 0.3523\n",
            "Epoch 7/200\n",
            "13/13 [==============================] - 1s 71ms/step - loss: 1.3763 - accuracy: 0.3897 - val_loss: 1.4104 - val_accuracy: 0.3580\n",
            "Epoch 8/200\n",
            "13/13 [==============================] - 1s 71ms/step - loss: 1.3240 - accuracy: 0.4289 - val_loss: 1.3674 - val_accuracy: 0.4034\n",
            "Epoch 9/200\n",
            "13/13 [==============================] - 1s 71ms/step - loss: 1.2448 - accuracy: 0.4510 - val_loss: 1.2606 - val_accuracy: 0.4318\n",
            "Epoch 10/200\n",
            "13/13 [==============================] - 1s 71ms/step - loss: 1.1626 - accuracy: 0.5270 - val_loss: 1.2559 - val_accuracy: 0.4489\n",
            "Epoch 11/200\n",
            "13/13 [==============================] - 1s 71ms/step - loss: 1.1698 - accuracy: 0.4975 - val_loss: 1.3231 - val_accuracy: 0.4205\n",
            "Epoch 12/200\n",
            "13/13 [==============================] - 1s 71ms/step - loss: 1.0634 - accuracy: 0.5564 - val_loss: 1.3057 - val_accuracy: 0.4318\n",
            "Epoch 13/200\n",
            "13/13 [==============================] - 1s 71ms/step - loss: 0.9520 - accuracy: 0.6397 - val_loss: 1.0234 - val_accuracy: 0.5795\n",
            "Epoch 14/200\n",
            "13/13 [==============================] - 1s 71ms/step - loss: 0.8811 - accuracy: 0.6471 - val_loss: 1.0122 - val_accuracy: 0.5511\n",
            "Epoch 15/200\n",
            "13/13 [==============================] - 1s 72ms/step - loss: 0.8802 - accuracy: 0.6495 - val_loss: 0.9382 - val_accuracy: 0.6307\n",
            "Epoch 16/200\n",
            "13/13 [==============================] - 1s 72ms/step - loss: 0.7379 - accuracy: 0.7304 - val_loss: 0.8783 - val_accuracy: 0.6420\n",
            "Epoch 17/200\n",
            "13/13 [==============================] - 1s 72ms/step - loss: 0.6552 - accuracy: 0.7451 - val_loss: 0.8424 - val_accuracy: 0.6705\n",
            "Epoch 18/200\n",
            "13/13 [==============================] - 1s 72ms/step - loss: 0.6424 - accuracy: 0.7549 - val_loss: 0.8803 - val_accuracy: 0.6136\n",
            "Epoch 19/200\n",
            "13/13 [==============================] - 1s 72ms/step - loss: 0.5311 - accuracy: 0.8088 - val_loss: 0.8170 - val_accuracy: 0.6534\n",
            "Epoch 20/200\n",
            "13/13 [==============================] - 1s 73ms/step - loss: 0.5142 - accuracy: 0.7770 - val_loss: 0.7547 - val_accuracy: 0.7045\n",
            "Epoch 21/200\n",
            "13/13 [==============================] - 1s 72ms/step - loss: 0.4768 - accuracy: 0.8235 - val_loss: 0.8324 - val_accuracy: 0.6705\n",
            "Epoch 22/200\n",
            "13/13 [==============================] - 1s 72ms/step - loss: 0.4396 - accuracy: 0.8358 - val_loss: 0.7161 - val_accuracy: 0.7102\n",
            "Epoch 23/200\n",
            "13/13 [==============================] - 1s 72ms/step - loss: 0.4418 - accuracy: 0.8186 - val_loss: 0.7538 - val_accuracy: 0.7386\n",
            "Epoch 24/200\n",
            "13/13 [==============================] - 1s 72ms/step - loss: 0.4795 - accuracy: 0.7892 - val_loss: 0.6996 - val_accuracy: 0.7614\n",
            "Epoch 25/200\n",
            "13/13 [==============================] - 1s 71ms/step - loss: 0.3714 - accuracy: 0.8456 - val_loss: 0.6911 - val_accuracy: 0.7727\n",
            "Epoch 26/200\n",
            "13/13 [==============================] - 1s 72ms/step - loss: 0.3002 - accuracy: 0.8922 - val_loss: 0.7358 - val_accuracy: 0.7557\n",
            "Epoch 27/200\n",
            "13/13 [==============================] - 1s 72ms/step - loss: 0.2938 - accuracy: 0.8922 - val_loss: 0.9081 - val_accuracy: 0.7045\n",
            "Epoch 28/200\n",
            "13/13 [==============================] - 1s 72ms/step - loss: 0.2762 - accuracy: 0.8873 - val_loss: 0.8927 - val_accuracy: 0.7102\n",
            "Epoch 29/200\n",
            "13/13 [==============================] - 1s 71ms/step - loss: 0.2804 - accuracy: 0.8897 - val_loss: 0.8045 - val_accuracy: 0.7330\n",
            "Epoch 30/200\n",
            "13/13 [==============================] - 1s 72ms/step - loss: 0.2033 - accuracy: 0.9436 - val_loss: 0.8393 - val_accuracy: 0.7330\n",
            "Epoch 31/200\n",
            "13/13 [==============================] - 1s 71ms/step - loss: 0.1672 - accuracy: 0.9485 - val_loss: 0.7998 - val_accuracy: 0.7557\n",
            "Epoch 32/200\n",
            "13/13 [==============================] - 1s 71ms/step - loss: 0.1373 - accuracy: 0.9510 - val_loss: 0.8574 - val_accuracy: 0.7443\n",
            "Epoch 33/200\n",
            "13/13 [==============================] - 1s 72ms/step - loss: 0.1589 - accuracy: 0.9485 - val_loss: 1.2839 - val_accuracy: 0.6477\n",
            "Epoch 34/200\n",
            "13/13 [==============================] - 1s 70ms/step - loss: 0.1718 - accuracy: 0.9387 - val_loss: 0.9593 - val_accuracy: 0.7216\n",
            "Epoch 35/200\n",
            "13/13 [==============================] - 1s 70ms/step - loss: 0.1960 - accuracy: 0.9338 - val_loss: 0.8463 - val_accuracy: 0.7443\n",
            "Epoch 36/200\n",
            "13/13 [==============================] - 1s 71ms/step - loss: 0.1732 - accuracy: 0.9387 - val_loss: 0.8502 - val_accuracy: 0.7727\n",
            "Epoch 37/200\n",
            "13/13 [==============================] - 1s 70ms/step - loss: 0.1218 - accuracy: 0.9559 - val_loss: 1.0583 - val_accuracy: 0.7045\n",
            "Epoch 38/200\n",
            "13/13 [==============================] - 1s 72ms/step - loss: 0.1376 - accuracy: 0.9461 - val_loss: 0.8158 - val_accuracy: 0.7784\n",
            "Epoch 39/200\n",
            "13/13 [==============================] - 1s 72ms/step - loss: 0.1352 - accuracy: 0.9412 - val_loss: 1.1764 - val_accuracy: 0.6818\n",
            "Epoch 40/200\n",
            "13/13 [==============================] - 1s 72ms/step - loss: 0.1026 - accuracy: 0.9608 - val_loss: 1.1571 - val_accuracy: 0.6932\n",
            "Epoch 41/200\n",
            "13/13 [==============================] - 1s 72ms/step - loss: 0.0939 - accuracy: 0.9583 - val_loss: 0.9397 - val_accuracy: 0.7386\n",
            "Epoch 42/200\n",
            "13/13 [==============================] - 1s 72ms/step - loss: 0.0760 - accuracy: 0.9804 - val_loss: 0.9195 - val_accuracy: 0.7557\n",
            "Epoch 43/200\n",
            "13/13 [==============================] - 1s 72ms/step - loss: 0.0531 - accuracy: 0.9902 - val_loss: 0.9164 - val_accuracy: 0.7955\n",
            "Epoch 44/200\n",
            "13/13 [==============================] - 1s 72ms/step - loss: 0.0364 - accuracy: 0.9926 - val_loss: 1.0236 - val_accuracy: 0.7330\n",
            "Epoch 45/200\n",
            "13/13 [==============================] - 1s 72ms/step - loss: 0.0341 - accuracy: 0.9902 - val_loss: 0.9499 - val_accuracy: 0.7784\n",
            "Epoch 46/200\n",
            "13/13 [==============================] - 1s 72ms/step - loss: 0.0287 - accuracy: 0.9853 - val_loss: 1.0255 - val_accuracy: 0.7500\n",
            "Epoch 47/200\n",
            "13/13 [==============================] - 1s 72ms/step - loss: 0.0220 - accuracy: 1.0000 - val_loss: 1.0211 - val_accuracy: 0.7727\n",
            "Epoch 48/200\n",
            "13/13 [==============================] - 1s 73ms/step - loss: 0.0160 - accuracy: 1.0000 - val_loss: 1.0705 - val_accuracy: 0.7727\n",
            "Epoch 49/200\n",
            "13/13 [==============================] - 1s 72ms/step - loss: 0.0178 - accuracy: 0.9951 - val_loss: 1.0596 - val_accuracy: 0.7784\n",
            "Epoch 50/200\n",
            "13/13 [==============================] - 1s 72ms/step - loss: 0.0244 - accuracy: 0.9951 - val_loss: 1.1767 - val_accuracy: 0.7670\n",
            "Epoch 51/200\n",
            "13/13 [==============================] - 1s 73ms/step - loss: 0.0215 - accuracy: 0.9902 - val_loss: 1.1001 - val_accuracy: 0.7727\n",
            "Epoch 52/200\n",
            "13/13 [==============================] - 1s 72ms/step - loss: 0.0177 - accuracy: 1.0000 - val_loss: 1.0917 - val_accuracy: 0.7841\n",
            "Epoch 53/200\n",
            "13/13 [==============================] - 1s 75ms/step - loss: 0.0195 - accuracy: 0.9951 - val_loss: 1.1190 - val_accuracy: 0.7443\n",
            "Epoch 54/200\n",
            "13/13 [==============================] - 1s 73ms/step - loss: 0.0143 - accuracy: 0.9975 - val_loss: 1.0601 - val_accuracy: 0.7784\n",
            "Epoch 55/200\n",
            "13/13 [==============================] - 1s 73ms/step - loss: 0.0067 - accuracy: 1.0000 - val_loss: 1.1033 - val_accuracy: 0.7670\n",
            "Epoch 56/200\n",
            "13/13 [==============================] - 1s 73ms/step - loss: 0.0077 - accuracy: 0.9975 - val_loss: 1.1102 - val_accuracy: 0.7727\n",
            "Epoch 57/200\n",
            "13/13 [==============================] - 1s 73ms/step - loss: 0.0050 - accuracy: 1.0000 - val_loss: 1.1599 - val_accuracy: 0.7784\n",
            "Epoch 58/200\n",
            "13/13 [==============================] - 1s 73ms/step - loss: 0.0046 - accuracy: 1.0000 - val_loss: 1.1700 - val_accuracy: 0.7841\n",
            "Epoch 59/200\n",
            "13/13 [==============================] - 1s 73ms/step - loss: 0.0033 - accuracy: 1.0000 - val_loss: 1.1508 - val_accuracy: 0.7727\n",
            "Epoch 60/200\n",
            "13/13 [==============================] - 1s 74ms/step - loss: 0.0032 - accuracy: 1.0000 - val_loss: 1.1718 - val_accuracy: 0.7727\n",
            "Epoch 61/200\n",
            "13/13 [==============================] - 1s 74ms/step - loss: 0.0029 - accuracy: 1.0000 - val_loss: 1.2084 - val_accuracy: 0.7727\n",
            "Epoch 62/200\n",
            "13/13 [==============================] - 1s 73ms/step - loss: 0.0029 - accuracy: 1.0000 - val_loss: 1.2061 - val_accuracy: 0.7670\n",
            "Epoch 63/200\n",
            "13/13 [==============================] - 1s 73ms/step - loss: 0.0024 - accuracy: 1.0000 - val_loss: 1.2065 - val_accuracy: 0.7727\n",
            "Epoch 64/200\n",
            "13/13 [==============================] - 1s 73ms/step - loss: 0.0022 - accuracy: 1.0000 - val_loss: 1.2256 - val_accuracy: 0.7784\n",
            "Epoch 65/200\n",
            "13/13 [==============================] - 1s 73ms/step - loss: 0.0021 - accuracy: 1.0000 - val_loss: 1.2234 - val_accuracy: 0.7727\n",
            "Epoch 66/200\n",
            "13/13 [==============================] - 1s 74ms/step - loss: 0.0021 - accuracy: 1.0000 - val_loss: 1.2530 - val_accuracy: 0.7670\n",
            "Epoch 67/200\n",
            "13/13 [==============================] - 1s 73ms/step - loss: 0.0019 - accuracy: 1.0000 - val_loss: 1.2526 - val_accuracy: 0.7670\n",
            "Epoch 68/200\n",
            "13/13 [==============================] - 1s 73ms/step - loss: 0.0018 - accuracy: 1.0000 - val_loss: 1.2587 - val_accuracy: 0.7670\n",
            "Epoch 69/200\n",
            "13/13 [==============================] - 1s 72ms/step - loss: 0.0016 - accuracy: 1.0000 - val_loss: 1.2801 - val_accuracy: 0.7670\n",
            "Epoch 70/200\n",
            "13/13 [==============================] - 1s 72ms/step - loss: 0.0016 - accuracy: 1.0000 - val_loss: 1.2747 - val_accuracy: 0.7670\n",
            "Epoch 71/200\n",
            "13/13 [==============================] - 1s 73ms/step - loss: 0.0015 - accuracy: 1.0000 - val_loss: 1.2831 - val_accuracy: 0.7727\n",
            "Epoch 72/200\n",
            "13/13 [==============================] - 1s 75ms/step - loss: 0.0015 - accuracy: 1.0000 - val_loss: 1.2846 - val_accuracy: 0.7670\n",
            "Epoch 73/200\n",
            "13/13 [==============================] - 1s 73ms/step - loss: 0.0014 - accuracy: 1.0000 - val_loss: 1.3191 - val_accuracy: 0.7727\n",
            "Epoch 74/200\n",
            "13/13 [==============================] - 1s 74ms/step - loss: 0.0014 - accuracy: 1.0000 - val_loss: 1.2970 - val_accuracy: 0.7727\n",
            "Epoch 75/200\n",
            "13/13 [==============================] - 1s 73ms/step - loss: 0.0012 - accuracy: 1.0000 - val_loss: 1.3236 - val_accuracy: 0.7784\n",
            "Epoch 76/200\n",
            "13/13 [==============================] - 1s 72ms/step - loss: 0.0012 - accuracy: 1.0000 - val_loss: 1.3114 - val_accuracy: 0.7670\n",
            "Epoch 77/200\n",
            "13/13 [==============================] - 1s 72ms/step - loss: 0.0011 - accuracy: 1.0000 - val_loss: 1.3276 - val_accuracy: 0.7784\n",
            "Epoch 78/200\n",
            "13/13 [==============================] - 1s 73ms/step - loss: 0.0011 - accuracy: 1.0000 - val_loss: 1.3251 - val_accuracy: 0.7670\n",
            "Epoch 79/200\n",
            "13/13 [==============================] - 1s 72ms/step - loss: 0.0010 - accuracy: 1.0000 - val_loss: 1.3429 - val_accuracy: 0.7727\n",
            "Epoch 80/200\n",
            "13/13 [==============================] - 1s 73ms/step - loss: 0.0010 - accuracy: 1.0000 - val_loss: 1.3420 - val_accuracy: 0.7670\n",
            "Epoch 81/200\n",
            "13/13 [==============================] - 1s 72ms/step - loss: 9.6885e-04 - accuracy: 1.0000 - val_loss: 1.3422 - val_accuracy: 0.7670\n",
            "Epoch 82/200\n",
            "13/13 [==============================] - 1s 73ms/step - loss: 8.7782e-04 - accuracy: 1.0000 - val_loss: 1.3607 - val_accuracy: 0.7784\n",
            "Epoch 83/200\n",
            "13/13 [==============================] - 1s 73ms/step - loss: 8.4027e-04 - accuracy: 1.0000 - val_loss: 1.3552 - val_accuracy: 0.7670\n",
            "Epoch 84/200\n",
            "13/13 [==============================] - 1s 73ms/step - loss: 8.1418e-04 - accuracy: 1.0000 - val_loss: 1.3731 - val_accuracy: 0.7727\n",
            "Epoch 85/200\n",
            "13/13 [==============================] - 1s 72ms/step - loss: 8.1265e-04 - accuracy: 1.0000 - val_loss: 1.3602 - val_accuracy: 0.7898\n",
            "Epoch 86/200\n",
            "13/13 [==============================] - 1s 72ms/step - loss: 7.7563e-04 - accuracy: 1.0000 - val_loss: 1.3803 - val_accuracy: 0.7670\n",
            "Epoch 87/200\n",
            "13/13 [==============================] - 1s 73ms/step - loss: 7.4049e-04 - accuracy: 1.0000 - val_loss: 1.3837 - val_accuracy: 0.7727\n",
            "Epoch 88/200\n",
            "13/13 [==============================] - 1s 72ms/step - loss: 7.1420e-04 - accuracy: 1.0000 - val_loss: 1.3853 - val_accuracy: 0.7784\n",
            "Epoch 89/200\n",
            "13/13 [==============================] - 1s 73ms/step - loss: 6.8463e-04 - accuracy: 1.0000 - val_loss: 1.3965 - val_accuracy: 0.7727\n",
            "Epoch 90/200\n",
            "13/13 [==============================] - 1s 74ms/step - loss: 6.9473e-04 - accuracy: 1.0000 - val_loss: 1.3977 - val_accuracy: 0.7670\n",
            "Epoch 91/200\n",
            "13/13 [==============================] - 1s 73ms/step - loss: 7.3336e-04 - accuracy: 1.0000 - val_loss: 1.4007 - val_accuracy: 0.7614\n",
            "Epoch 92/200\n",
            "13/13 [==============================] - 1s 72ms/step - loss: 6.7413e-04 - accuracy: 1.0000 - val_loss: 1.4048 - val_accuracy: 0.7841\n",
            "Epoch 93/200\n",
            "13/13 [==============================] - 1s 73ms/step - loss: 6.2011e-04 - accuracy: 1.0000 - val_loss: 1.4106 - val_accuracy: 0.7841\n",
            "Epoch 94/200\n",
            "13/13 [==============================] - 1s 73ms/step - loss: 5.8606e-04 - accuracy: 1.0000 - val_loss: 1.4203 - val_accuracy: 0.7614\n",
            "Epoch 95/200\n",
            "13/13 [==============================] - 1s 73ms/step - loss: 5.7547e-04 - accuracy: 1.0000 - val_loss: 1.4246 - val_accuracy: 0.7784\n",
            "Epoch 96/200\n",
            "13/13 [==============================] - 1s 74ms/step - loss: 5.5773e-04 - accuracy: 1.0000 - val_loss: 1.4292 - val_accuracy: 0.7784\n",
            "Epoch 97/200\n",
            "13/13 [==============================] - 1s 73ms/step - loss: 5.3997e-04 - accuracy: 1.0000 - val_loss: 1.4260 - val_accuracy: 0.7841\n",
            "Epoch 98/200\n",
            "13/13 [==============================] - 1s 74ms/step - loss: 5.2902e-04 - accuracy: 1.0000 - val_loss: 1.4402 - val_accuracy: 0.7727\n",
            "Epoch 99/200\n",
            "13/13 [==============================] - 1s 73ms/step - loss: 5.0594e-04 - accuracy: 1.0000 - val_loss: 1.4361 - val_accuracy: 0.7784\n",
            "Epoch 100/200\n",
            "13/13 [==============================] - 1s 74ms/step - loss: 4.9059e-04 - accuracy: 1.0000 - val_loss: 1.4454 - val_accuracy: 0.7841\n",
            "Epoch 101/200\n",
            "13/13 [==============================] - 1s 73ms/step - loss: 4.8728e-04 - accuracy: 1.0000 - val_loss: 1.4518 - val_accuracy: 0.7727\n",
            "Epoch 102/200\n",
            "13/13 [==============================] - 1s 74ms/step - loss: 4.8860e-04 - accuracy: 1.0000 - val_loss: 1.4506 - val_accuracy: 0.7841\n",
            "Epoch 103/200\n",
            "13/13 [==============================] - 1s 74ms/step - loss: 4.8332e-04 - accuracy: 1.0000 - val_loss: 1.4582 - val_accuracy: 0.7784\n",
            "Epoch 104/200\n",
            "13/13 [==============================] - 1s 74ms/step - loss: 4.4714e-04 - accuracy: 1.0000 - val_loss: 1.4573 - val_accuracy: 0.7898\n",
            "Epoch 105/200\n",
            "13/13 [==============================] - 1s 73ms/step - loss: 4.2985e-04 - accuracy: 1.0000 - val_loss: 1.4736 - val_accuracy: 0.7727\n",
            "Epoch 106/200\n",
            "13/13 [==============================] - 1s 73ms/step - loss: 4.1690e-04 - accuracy: 1.0000 - val_loss: 1.4671 - val_accuracy: 0.7841\n",
            "Epoch 107/200\n",
            "13/13 [==============================] - 1s 73ms/step - loss: 4.1455e-04 - accuracy: 1.0000 - val_loss: 1.4704 - val_accuracy: 0.7898\n",
            "Epoch 108/200\n",
            "13/13 [==============================] - 1s 73ms/step - loss: 4.1032e-04 - accuracy: 1.0000 - val_loss: 1.4845 - val_accuracy: 0.7670\n",
            "Epoch 109/200\n",
            "13/13 [==============================] - 1s 73ms/step - loss: 3.8260e-04 - accuracy: 1.0000 - val_loss: 1.4761 - val_accuracy: 0.7841\n",
            "Epoch 110/200\n",
            "13/13 [==============================] - 1s 74ms/step - loss: 3.8802e-04 - accuracy: 1.0000 - val_loss: 1.4842 - val_accuracy: 0.7841\n",
            "Epoch 111/200\n",
            "13/13 [==============================] - 1s 74ms/step - loss: 3.7201e-04 - accuracy: 1.0000 - val_loss: 1.4930 - val_accuracy: 0.7784\n",
            "Epoch 112/200\n",
            "13/13 [==============================] - 1s 74ms/step - loss: 3.6171e-04 - accuracy: 1.0000 - val_loss: 1.4906 - val_accuracy: 0.7841\n",
            "Epoch 113/200\n",
            "13/13 [==============================] - 1s 75ms/step - loss: 3.5393e-04 - accuracy: 1.0000 - val_loss: 1.4941 - val_accuracy: 0.7841\n",
            "Epoch 114/200\n",
            "13/13 [==============================] - 1s 74ms/step - loss: 3.4880e-04 - accuracy: 1.0000 - val_loss: 1.4953 - val_accuracy: 0.7841\n",
            "Epoch 115/200\n",
            "13/13 [==============================] - 1s 73ms/step - loss: 3.3880e-04 - accuracy: 1.0000 - val_loss: 1.5047 - val_accuracy: 0.7841\n",
            "Epoch 116/200\n",
            "13/13 [==============================] - 1s 74ms/step - loss: 3.2909e-04 - accuracy: 1.0000 - val_loss: 1.5024 - val_accuracy: 0.7841\n",
            "Epoch 117/200\n",
            "13/13 [==============================] - 1s 74ms/step - loss: 3.2449e-04 - accuracy: 1.0000 - val_loss: 1.5056 - val_accuracy: 0.7841\n",
            "Epoch 118/200\n",
            "13/13 [==============================] - 1s 72ms/step - loss: 3.1520e-04 - accuracy: 1.0000 - val_loss: 1.5126 - val_accuracy: 0.7898\n",
            "Epoch 119/200\n",
            "13/13 [==============================] - 1s 73ms/step - loss: 3.1110e-04 - accuracy: 1.0000 - val_loss: 1.5196 - val_accuracy: 0.7841\n",
            "Epoch 120/200\n",
            "13/13 [==============================] - 1s 75ms/step - loss: 3.0345e-04 - accuracy: 1.0000 - val_loss: 1.5119 - val_accuracy: 0.7841\n",
            "Epoch 121/200\n",
            "13/13 [==============================] - 1s 73ms/step - loss: 2.9521e-04 - accuracy: 1.0000 - val_loss: 1.5232 - val_accuracy: 0.7841\n",
            "Epoch 122/200\n",
            "13/13 [==============================] - 1s 73ms/step - loss: 2.9389e-04 - accuracy: 1.0000 - val_loss: 1.5265 - val_accuracy: 0.7841\n",
            "Epoch 123/200\n",
            "13/13 [==============================] - 1s 74ms/step - loss: 2.9134e-04 - accuracy: 1.0000 - val_loss: 1.5208 - val_accuracy: 0.7841\n",
            "Epoch 124/200\n",
            "13/13 [==============================] - 1s 75ms/step - loss: 2.8366e-04 - accuracy: 1.0000 - val_loss: 1.5356 - val_accuracy: 0.7841\n",
            "Epoch 125/200\n",
            "13/13 [==============================] - 1s 74ms/step - loss: 2.7230e-04 - accuracy: 1.0000 - val_loss: 1.5319 - val_accuracy: 0.7841\n",
            "Epoch 126/200\n",
            "13/13 [==============================] - 1s 73ms/step - loss: 2.6698e-04 - accuracy: 1.0000 - val_loss: 1.5365 - val_accuracy: 0.7898\n",
            "Epoch 127/200\n",
            "13/13 [==============================] - 1s 74ms/step - loss: 2.6431e-04 - accuracy: 1.0000 - val_loss: 1.5463 - val_accuracy: 0.7841\n",
            "Epoch 128/200\n",
            "13/13 [==============================] - 1s 73ms/step - loss: 2.6010e-04 - accuracy: 1.0000 - val_loss: 1.5389 - val_accuracy: 0.7841\n",
            "Epoch 129/200\n",
            "13/13 [==============================] - 1s 75ms/step - loss: 2.5235e-04 - accuracy: 1.0000 - val_loss: 1.5530 - val_accuracy: 0.7784\n",
            "Epoch 130/200\n",
            "13/13 [==============================] - 1s 75ms/step - loss: 2.4882e-04 - accuracy: 1.0000 - val_loss: 1.5426 - val_accuracy: 0.7841\n",
            "Epoch 131/200\n",
            "13/13 [==============================] - 1s 73ms/step - loss: 2.4368e-04 - accuracy: 1.0000 - val_loss: 1.5566 - val_accuracy: 0.7841\n",
            "Epoch 132/200\n",
            "13/13 [==============================] - 1s 74ms/step - loss: 2.3994e-04 - accuracy: 1.0000 - val_loss: 1.5581 - val_accuracy: 0.7841\n",
            "Epoch 133/200\n",
            "13/13 [==============================] - 1s 74ms/step - loss: 2.3590e-04 - accuracy: 1.0000 - val_loss: 1.5618 - val_accuracy: 0.7898\n",
            "Epoch 134/200\n",
            "13/13 [==============================] - 1s 75ms/step - loss: 2.3172e-04 - accuracy: 1.0000 - val_loss: 1.5643 - val_accuracy: 0.7841\n",
            "Epoch 135/200\n",
            "13/13 [==============================] - 1s 74ms/step - loss: 2.2795e-04 - accuracy: 1.0000 - val_loss: 1.5575 - val_accuracy: 0.7841\n",
            "Epoch 136/200\n",
            "13/13 [==============================] - 1s 75ms/step - loss: 2.2171e-04 - accuracy: 1.0000 - val_loss: 1.5656 - val_accuracy: 0.7841\n",
            "Epoch 137/200\n",
            "13/13 [==============================] - 1s 73ms/step - loss: 2.2040e-04 - accuracy: 1.0000 - val_loss: 1.5695 - val_accuracy: 0.7898\n",
            "Epoch 138/200\n",
            "13/13 [==============================] - 1s 74ms/step - loss: 2.1642e-04 - accuracy: 1.0000 - val_loss: 1.5771 - val_accuracy: 0.7898\n",
            "Epoch 139/200\n",
            "13/13 [==============================] - 1s 74ms/step - loss: 2.0593e-04 - accuracy: 1.0000 - val_loss: 1.5747 - val_accuracy: 0.7841\n",
            "Epoch 140/200\n",
            "13/13 [==============================] - 1s 74ms/step - loss: 2.0536e-04 - accuracy: 1.0000 - val_loss: 1.5769 - val_accuracy: 0.7841\n",
            "Epoch 141/200\n",
            "13/13 [==============================] - 1s 75ms/step - loss: 2.0194e-04 - accuracy: 1.0000 - val_loss: 1.5776 - val_accuracy: 0.7898\n",
            "Epoch 142/200\n",
            "13/13 [==============================] - 1s 74ms/step - loss: 1.9694e-04 - accuracy: 1.0000 - val_loss: 1.5825 - val_accuracy: 0.7841\n",
            "Epoch 143/200\n",
            "13/13 [==============================] - 1s 74ms/step - loss: 1.9288e-04 - accuracy: 1.0000 - val_loss: 1.5840 - val_accuracy: 0.7898\n",
            "Epoch 144/200\n",
            "13/13 [==============================] - 1s 74ms/step - loss: 1.8857e-04 - accuracy: 1.0000 - val_loss: 1.5914 - val_accuracy: 0.7898\n",
            "Epoch 145/200\n",
            "13/13 [==============================] - 1s 74ms/step - loss: 1.8592e-04 - accuracy: 1.0000 - val_loss: 1.5914 - val_accuracy: 0.7898\n",
            "Epoch 146/200\n",
            "13/13 [==============================] - 1s 74ms/step - loss: 1.8303e-04 - accuracy: 1.0000 - val_loss: 1.5933 - val_accuracy: 0.7898\n",
            "Epoch 147/200\n",
            "13/13 [==============================] - 1s 74ms/step - loss: 1.8078e-04 - accuracy: 1.0000 - val_loss: 1.5952 - val_accuracy: 0.7898\n",
            "Epoch 148/200\n",
            "13/13 [==============================] - 1s 73ms/step - loss: 1.7716e-04 - accuracy: 1.0000 - val_loss: 1.6007 - val_accuracy: 0.7898\n",
            "Epoch 149/200\n",
            "13/13 [==============================] - 1s 75ms/step - loss: 1.7579e-04 - accuracy: 1.0000 - val_loss: 1.6010 - val_accuracy: 0.7841\n",
            "Epoch 150/200\n",
            "13/13 [==============================] - 1s 73ms/step - loss: 1.7379e-04 - accuracy: 1.0000 - val_loss: 1.6038 - val_accuracy: 0.7898\n",
            "Epoch 151/200\n",
            "13/13 [==============================] - 1s 75ms/step - loss: 1.7262e-04 - accuracy: 1.0000 - val_loss: 1.6092 - val_accuracy: 0.7784\n",
            "Epoch 152/200\n",
            "13/13 [==============================] - 1s 77ms/step - loss: 1.6410e-04 - accuracy: 1.0000 - val_loss: 1.6097 - val_accuracy: 0.7841\n",
            "Epoch 153/200\n",
            "13/13 [==============================] - 1s 76ms/step - loss: 1.6245e-04 - accuracy: 1.0000 - val_loss: 1.6118 - val_accuracy: 0.7898\n",
            "Epoch 154/200\n",
            "13/13 [==============================] - 1s 76ms/step - loss: 1.5896e-04 - accuracy: 1.0000 - val_loss: 1.6157 - val_accuracy: 0.7898\n",
            "Epoch 155/200\n",
            "13/13 [==============================] - 1s 75ms/step - loss: 1.5504e-04 - accuracy: 1.0000 - val_loss: 1.6173 - val_accuracy: 0.7841\n",
            "Epoch 156/200\n",
            "13/13 [==============================] - 1s 77ms/step - loss: 1.5316e-04 - accuracy: 1.0000 - val_loss: 1.6189 - val_accuracy: 0.7898\n",
            "Epoch 157/200\n",
            "13/13 [==============================] - 1s 75ms/step - loss: 1.5216e-04 - accuracy: 1.0000 - val_loss: 1.6232 - val_accuracy: 0.7898\n",
            "Epoch 158/200\n",
            "13/13 [==============================] - 1s 74ms/step - loss: 1.4905e-04 - accuracy: 1.0000 - val_loss: 1.6260 - val_accuracy: 0.7841\n",
            "Epoch 159/200\n",
            "13/13 [==============================] - 1s 74ms/step - loss: 1.4847e-04 - accuracy: 1.0000 - val_loss: 1.6255 - val_accuracy: 0.7898\n",
            "Epoch 160/200\n",
            "13/13 [==============================] - 1s 74ms/step - loss: 1.4379e-04 - accuracy: 1.0000 - val_loss: 1.6324 - val_accuracy: 0.7898\n",
            "Epoch 161/200\n",
            "13/13 [==============================] - 1s 74ms/step - loss: 1.4312e-04 - accuracy: 1.0000 - val_loss: 1.6356 - val_accuracy: 0.7898\n",
            "Epoch 162/200\n",
            "13/13 [==============================] - 1s 74ms/step - loss: 1.4486e-04 - accuracy: 1.0000 - val_loss: 1.6297 - val_accuracy: 0.7898\n",
            "Epoch 163/200\n",
            "13/13 [==============================] - 1s 73ms/step - loss: 1.3740e-04 - accuracy: 1.0000 - val_loss: 1.6380 - val_accuracy: 0.7898\n",
            "Epoch 164/200\n",
            "13/13 [==============================] - 1s 74ms/step - loss: 1.3547e-04 - accuracy: 1.0000 - val_loss: 1.6465 - val_accuracy: 0.7898\n",
            "Epoch 165/200\n",
            "13/13 [==============================] - 1s 74ms/step - loss: 1.3300e-04 - accuracy: 1.0000 - val_loss: 1.6402 - val_accuracy: 0.7898\n",
            "Epoch 166/200\n",
            "13/13 [==============================] - 1s 74ms/step - loss: 1.3024e-04 - accuracy: 1.0000 - val_loss: 1.6456 - val_accuracy: 0.7898\n",
            "Epoch 167/200\n",
            "13/13 [==============================] - 1s 74ms/step - loss: 1.3051e-04 - accuracy: 1.0000 - val_loss: 1.6504 - val_accuracy: 0.7898\n",
            "Epoch 168/200\n",
            "13/13 [==============================] - 1s 74ms/step - loss: 1.2739e-04 - accuracy: 1.0000 - val_loss: 1.6503 - val_accuracy: 0.7898\n",
            "Epoch 169/200\n",
            "13/13 [==============================] - 1s 73ms/step - loss: 1.2489e-04 - accuracy: 1.0000 - val_loss: 1.6484 - val_accuracy: 0.7841\n",
            "Epoch 170/200\n",
            "13/13 [==============================] - 1s 75ms/step - loss: 1.2300e-04 - accuracy: 1.0000 - val_loss: 1.6556 - val_accuracy: 0.7898\n",
            "Epoch 171/200\n",
            "13/13 [==============================] - 1s 76ms/step - loss: 1.2039e-04 - accuracy: 1.0000 - val_loss: 1.6589 - val_accuracy: 0.7898\n",
            "Epoch 172/200\n",
            "13/13 [==============================] - 1s 74ms/step - loss: 1.1956e-04 - accuracy: 1.0000 - val_loss: 1.6596 - val_accuracy: 0.7898\n",
            "Epoch 173/200\n",
            "13/13 [==============================] - 1s 75ms/step - loss: 1.1847e-04 - accuracy: 1.0000 - val_loss: 1.6626 - val_accuracy: 0.7898\n",
            "Epoch 174/200\n",
            "13/13 [==============================] - 1s 74ms/step - loss: 1.1740e-04 - accuracy: 1.0000 - val_loss: 1.6666 - val_accuracy: 0.7841\n",
            "Epoch 175/200\n",
            "13/13 [==============================] - 1s 75ms/step - loss: 1.1695e-04 - accuracy: 1.0000 - val_loss: 1.6631 - val_accuracy: 0.7841\n",
            "Epoch 176/200\n",
            "13/13 [==============================] - 1s 75ms/step - loss: 1.1536e-04 - accuracy: 1.0000 - val_loss: 1.6738 - val_accuracy: 0.7784\n",
            "Epoch 177/200\n",
            "13/13 [==============================] - 1s 75ms/step - loss: 1.1251e-04 - accuracy: 1.0000 - val_loss: 1.6678 - val_accuracy: 0.7841\n",
            "Epoch 178/200\n",
            "13/13 [==============================] - 1s 75ms/step - loss: 1.0915e-04 - accuracy: 1.0000 - val_loss: 1.6712 - val_accuracy: 0.7898\n",
            "Epoch 179/200\n",
            "13/13 [==============================] - 1s 74ms/step - loss: 1.0671e-04 - accuracy: 1.0000 - val_loss: 1.6763 - val_accuracy: 0.7898\n",
            "Epoch 180/200\n",
            "13/13 [==============================] - 1s 75ms/step - loss: 1.0510e-04 - accuracy: 1.0000 - val_loss: 1.6813 - val_accuracy: 0.7898\n",
            "Epoch 181/200\n",
            "13/13 [==============================] - 1s 75ms/step - loss: 1.0541e-04 - accuracy: 1.0000 - val_loss: 1.6792 - val_accuracy: 0.7898\n",
            "Epoch 182/200\n",
            "13/13 [==============================] - 1s 75ms/step - loss: 1.0251e-04 - accuracy: 1.0000 - val_loss: 1.6846 - val_accuracy: 0.7898\n",
            "Epoch 183/200\n",
            "13/13 [==============================] - 1s 74ms/step - loss: 1.0142e-04 - accuracy: 1.0000 - val_loss: 1.6827 - val_accuracy: 0.7898\n",
            "Epoch 184/200\n",
            "13/13 [==============================] - 1s 74ms/step - loss: 9.9352e-05 - accuracy: 1.0000 - val_loss: 1.6842 - val_accuracy: 0.7898\n",
            "Epoch 185/200\n",
            "13/13 [==============================] - 1s 73ms/step - loss: 9.8580e-05 - accuracy: 1.0000 - val_loss: 1.6928 - val_accuracy: 0.7898\n",
            "Epoch 186/200\n",
            "13/13 [==============================] - 1s 75ms/step - loss: 9.6772e-05 - accuracy: 1.0000 - val_loss: 1.6900 - val_accuracy: 0.7898\n",
            "Epoch 187/200\n",
            "13/13 [==============================] - 1s 74ms/step - loss: 9.6029e-05 - accuracy: 1.0000 - val_loss: 1.6948 - val_accuracy: 0.7898\n",
            "Epoch 188/200\n",
            "13/13 [==============================] - 1s 74ms/step - loss: 9.3593e-05 - accuracy: 1.0000 - val_loss: 1.6942 - val_accuracy: 0.7841\n",
            "Epoch 189/200\n",
            "13/13 [==============================] - 1s 74ms/step - loss: 9.2522e-05 - accuracy: 1.0000 - val_loss: 1.6985 - val_accuracy: 0.7898\n",
            "Epoch 190/200\n",
            "13/13 [==============================] - 1s 74ms/step - loss: 9.1976e-05 - accuracy: 1.0000 - val_loss: 1.6974 - val_accuracy: 0.7898\n",
            "Epoch 191/200\n",
            "13/13 [==============================] - 1s 75ms/step - loss: 9.1819e-05 - accuracy: 1.0000 - val_loss: 1.7072 - val_accuracy: 0.7841\n",
            "Epoch 192/200\n",
            "13/13 [==============================] - 1s 74ms/step - loss: 8.9194e-05 - accuracy: 1.0000 - val_loss: 1.7015 - val_accuracy: 0.7841\n",
            "Epoch 193/200\n",
            "13/13 [==============================] - 1s 76ms/step - loss: 8.8338e-05 - accuracy: 1.0000 - val_loss: 1.7095 - val_accuracy: 0.7841\n",
            "Epoch 194/200\n",
            "13/13 [==============================] - 1s 74ms/step - loss: 8.6907e-05 - accuracy: 1.0000 - val_loss: 1.7071 - val_accuracy: 0.7841\n",
            "Epoch 195/200\n",
            "13/13 [==============================] - 1s 73ms/step - loss: 8.5687e-05 - accuracy: 1.0000 - val_loss: 1.7110 - val_accuracy: 0.7898\n",
            "Epoch 196/200\n",
            "13/13 [==============================] - 1s 74ms/step - loss: 8.4288e-05 - accuracy: 1.0000 - val_loss: 1.7166 - val_accuracy: 0.7898\n",
            "Epoch 197/200\n",
            "13/13 [==============================] - 1s 74ms/step - loss: 8.3850e-05 - accuracy: 1.0000 - val_loss: 1.7156 - val_accuracy: 0.7898\n",
            "Epoch 198/200\n",
            "13/13 [==============================] - 1s 74ms/step - loss: 8.1514e-05 - accuracy: 1.0000 - val_loss: 1.7180 - val_accuracy: 0.7898\n",
            "Epoch 199/200\n",
            "13/13 [==============================] - 1s 73ms/step - loss: 8.0771e-05 - accuracy: 1.0000 - val_loss: 1.7164 - val_accuracy: 0.7898\n",
            "Epoch 200/200\n",
            "13/13 [==============================] - 1s 74ms/step - loss: 7.9581e-05 - accuracy: 1.0000 - val_loss: 1.7237 - val_accuracy: 0.7898\n"
          ],
          "name": "stdout"
        }
      ]
    },
    {
      "cell_type": "code",
      "metadata": {
        "colab": {
          "base_uri": "https://localhost:8080/",
          "height": 573
        },
        "id": "r-rXYNL9WBOB",
        "outputId": "9b2fb51b-527f-42f8-a065-fa3ccaa49d7f"
      },
      "source": [
        "plt.plot(H.history['accuracy'])\n",
        "plt.plot(H.history['val_accuracy'])\n",
        "plt.title('model accuracy')\n",
        "plt.ylabel('accuracy')\n",
        "plt.xlabel('epoch')\n",
        "plt.legend(['train', 'test'], loc='upper left')\n",
        "plt.show()\n",
        "\n",
        "plt.plot(H.history['loss'])\n",
        "plt.plot(H.history['val_loss'])\n",
        "plt.title('model loss')\n",
        "plt.ylabel('loss')\n",
        "plt.xlabel('epoch')\n",
        "plt.legend(['train', 'test'], loc='upper left')\n",
        "plt.show()"
      ],
      "execution_count": 252,
      "outputs": [
        {
          "output_type": "display_data",
          "data": {
            "image/png": "[encoded data removed]",
            "text/plain": [
              "<Figure size 432x288 with 1 Axes>"
            ]
          },
          "metadata": {
            "tags": [],
            "needs_background": "light"
          }
        },
        {
          "output_type": "display_data",
          "data": {
            "image/png": "[encoded data removed]",
            "text/plain": [
              "<Figure size 432x288 with 1 Axes>"
            ]
          },
          "metadata": {
            "tags": [],
            "needs_background": "light"
          }
        }
      ]
    },
    {
      "cell_type": "code",
      "metadata": {
        "colab": {
          "base_uri": "https://localhost:8080/"
        },
        "id": "9wgAELX4WEjA",
        "outputId": "4de0f62d-2e50-412f-9998-0ab44d77a8e4"
      },
      "source": [
        "print(\"[INFO] evaluating network ...\")\n",
        "predictions = model.predict(testX, batch_size=32)\n",
        "print(classification_report(testY.argmax(axis=1), predictions.argmax(axis=1), target_names=lb.classes_))"
      ],
      "execution_count": 253,
      "outputs": [
        {
          "output_type": "stream",
          "text": [
            "[INFO] evaluating network ...\n",
            "              precision    recall  f1-score   support\n",
            "\n",
            "      GMB_01       0.77      0.73      0.75        37\n",
            "      GMB_02       0.75      0.83      0.79        29\n",
            "      GMB_03       0.85      0.85      0.85        34\n",
            "      GMB_04       0.81      0.71      0.75        41\n",
            "      GMB_05       0.77      0.86      0.81        35\n",
            "\n",
            "    accuracy                           0.79       176\n",
            "   macro avg       0.79      0.79      0.79       176\n",
            "weighted avg       0.79      0.79      0.79       176\n",
            "\n"
          ],
          "name": "stdout"
        }
      ]
    },
    {
      "cell_type": "code",
      "metadata": {
        "id": "vM-whYy3WGmJ"
      },
      "source": [
        "#model.save('nnmodel_scene')"
      ],
      "execution_count": 254,
      "outputs": []
    },
    {
      "cell_type": "code",
      "metadata": {
        "id": "PHFdXbNcWIah"
      },
      "source": [
        "#  images = ['forest_test.jpg', 'coast_test.jpg']\n",
        "#  for i in range(2) :\n",
        "#    img_array = cv2.imread(images[i])\n",
        "#    img_array = cv2.cvtColor(img_array, cv2.COLOR_BGR2RGB)\n",
        "#    plt.imshow(img_array)\n",
        "#    plt.show()\n",
        "#    image_test = Image.open(images[i])\n",
        "#    image_test = np.array(image_test.resize((64,64))) /255.0\n",
        "#    image_test = np.expand_dims(image_test, axis=0)\n",
        "#    output = model.predict(image_test, 1)\n",
        "#    print(output)\n",
        "#    print(lb.classes_[output.argmax(axis=1)])"
      ],
      "execution_count": 255,
      "outputs": []
    }
  ]
}
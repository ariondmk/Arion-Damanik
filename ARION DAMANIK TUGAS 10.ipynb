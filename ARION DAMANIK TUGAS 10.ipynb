{
  "nbformat": 4,
  "nbformat_minor": 0,
  "metadata": {
    "colab": {
      "name": "Salinan dari Copy of Untitled0.ipynb",
      "provenance": [],
      "include_colab_link": true
    },
    "kernelspec": {
      "name": "python3",
      "display_name": "Python 3"
    }
  },
  "cells": [
    {
      "cell_type": "markdown",
      "metadata": {
        "id": "view-in-github",
        "colab_type": "text"
      },
      "source": [
        "<a href=\"https://colab.research.google.com/github/ariondmk/Arion-Damanik/blob/main/ARION%20DAMANIK%20TUGAS%2010.ipynb\" target=\"_parent\"><img src=\"https://colab.research.google.com/assets/colab-badge.svg\" alt=\"Open In Colab\"/></a>"
      ]
    },
    {
      "cell_type": "code",
      "metadata": {
        "id": "XsJ-bKeYBAUH"
      },
      "source": [
        ""
      ],
      "execution_count": null,
      "outputs": []
    },
    {
      "cell_type": "code",
      "metadata": {
        "colab": {
          "base_uri": "https://localhost:8080/"
        },
        "id": "8LQfEX0gBoym",
        "outputId": "c46ad57e-9bf5-49fb-c0ca-361129a4fa58"
      },
      "source": [
        "from google.colab import drive\n",
        "drive.mount('/content/drive')"
      ],
      "execution_count": 42,
      "outputs": [
        {
          "output_type": "stream",
          "text": [
            "Drive already mounted at /content/drive; to attempt to forcibly remount, call drive.mount(\"/content/drive\", force_remount=True).\n"
          ],
          "name": "stdout"
        }
      ]
    },
    {
      "cell_type": "code",
      "metadata": {
        "colab": {
          "base_uri": "https://localhost:8080/"
        },
        "id": "CZGNiDGtCFyB",
        "outputId": "04a8d44b-5bac-4670-cfc0-6b3720b0d7bf"
      },
      "source": [
        "cd/content/drive/MyDrive"
      ],
      "execution_count": 43,
      "outputs": [
        {
          "output_type": "stream",
          "text": [
            "/content/drive/MyDrive\n"
          ],
          "name": "stdout"
        }
      ]
    },
    {
      "cell_type": "code",
      "metadata": {
        "id": "osML8lVVDJx4",
        "colab": {
          "base_uri": "https://localhost:8080/"
        },
        "outputId": "0eb54d9c-00d7-4d38-aa3a-251a0379759e"
      },
      "source": [
        "ls"
      ],
      "execution_count": 44,
      "outputs": [
        {
          "output_type": "stream",
          "text": [
            " \u001b[0m\u001b[01;34m3scene\u001b[0m/\n",
            " \u001b[01;34mAIB\u001b[0m/\n",
            "'ARION DAMANIK _ 1101190034 _TT4301.pdf'\n",
            "'ARION DAMANIK_1101190034_TUGAS RL 1.pdf'\n",
            "'ARION DAMANIK_ 1101190034_TUGAS RL 2.pdf'\n",
            "'ARION DAMANIK _ 110119034.pdf'\n",
            "'ARION DAMANIK_DIVISI DESIGN_MATERI DASAR EDITING DAN VIDEO _ MINGGU 1.zip'\n",
            " Arion.jpg\n",
            "'ARION P D DAMANIK _ 1101130034_ TT 43 01.pdf'\n",
            "'BERKAS FILE DAFTAR INACOS ARION DAMANIK.rar'\n",
            " \u001b[01;34mClassroom\u001b[0m/\n",
            "\u001b[01;34m'Colab Notebooks'\u001b[0m/\n",
            " \u001b[01;34mDrone\u001b[0m/\n",
            "\u001b[01;34m'FOLDER BEBAS'\u001b[0m/\n",
            "\u001b[01;34m'FOLDER FOTO SEKOLAH'\u001b[0m/\n",
            "\u001b[01;34m'Folder tanpa judul'\u001b[0m/\n",
            "'FORM ASTERISK 2020 _ ARION P D DAMANIK _ TT 43 01 (1).pdf'\n",
            "'FORM ASTERISK 2020 _ ARION P D DAMANIK _ TT 43 01.pdf'\n",
            "\u001b[01;36m'[JAMU]'\u001b[0m@\n",
            " \u001b[01;34mKULIAH\u001b[0m/\n",
            " \u001b[01;34mLOGO\u001b[0m/\n",
            " \u001b[01;34mmodel_scene\u001b[0m/\n",
            "\u001b[01;34m'PAS FOTO'\u001b[0m/\n",
            " \u001b[01;34mpenting\u001b[0m/\n",
            "'QUIS PRA UTS PDA _ ARION DAMANIK _ 1101190034.pdf'\n",
            "\u001b[01;36m'Salinan [JAMU]'\u001b[0m@\n",
            "'Screenshot (112) (1).png'\n",
            "'Screenshot (112).png'\n",
            "'Screenshot (11).png'\n",
            "'Screenshot (125).png'\n",
            "'Screenshot (161).png'\n",
            "'Screenshot (164).png'\n",
            "'Screenshot (189).png'\n",
            "'Screenshot (18).png'\n",
            "'Screenshot (19).png'\n",
            "'Screenshot (213).png'\n",
            "'Screenshot (279) (1).png'\n",
            "'Screenshot (279) (2).png'\n",
            "'Screenshot (279).png'\n",
            "'Screenshot (309).png'\n",
            "'Screenshot (331).png'\n",
            "'Screenshot (336).png'\n",
            " setup.exe\n",
            " \u001b[01;34mSS\u001b[0m/\n",
            " \u001b[01;34mTELKOM\u001b[0m/\n",
            "'TUGAS 3 RL _ ARION DAMANIK _ 1101190034.pdf'\n",
            "'TUGAS 4 PDA _ ARION P D DAMANIK _ 1101190034.pdf'\n",
            "'TUGAS 5 PDA _ ARION P D DAMANIK _ 1101190034.pdf'\n",
            "'TUGAS 9 PDA _ ARION DAMANIK _ 1101190034.pdf'\n",
            "'TUGAS PDA 3 _ ARION P D DAMANIK _ 1101190034.pdf'\n",
            "\u001b[01;34m'TUGAS PYTON'\u001b[0m/\n",
            "'UTS MATDIS _ 1101190034_ARION DAMANIK.pdf'\n",
            "\u001b[01;34m'VIDEO EDIT'\u001b[0m/\n",
            "\u001b[01;34m'VIDEO MENTAH'\u001b[0m/\n",
            " \u001b[01;34mWALLPAPER\u001b[0m/\n",
            "'WhatsApp Image 2020-10-26 at 12.34.06.jpeg'\n",
            "'WhatsApp Image 2020-11-28 at 10.04.11.jpeg'\n"
          ],
          "name": "stdout"
        }
      ]
    },
    {
      "cell_type": "code",
      "metadata": {
        "id": "rMDrYaWGDf_S"
      },
      "source": [
        "# import the necessary packages\n",
        "\n",
        "from keras.models import Sequential\n",
        "from keras.layers.core import Activation\n",
        "from keras.layers.core import Flatten\n",
        "from keras.layers.core import Dense \n",
        "from keras.optimizers import Adam\n",
        "from sklearn.preprocessing import LabelBinarizer\n",
        "from sklearn.model_selection import train_test_split\n",
        "from sklearn.metrics import classification_report\n",
        "from PIL import Image\n",
        "from imutils import paths \n",
        "import numpy as np\n",
        "import os"
      ],
      "execution_count": 45,
      "outputs": []
    },
    {
      "cell_type": "code",
      "metadata": {
        "colab": {
          "base_uri": "https://localhost:8080/"
        },
        "id": "Q9ITdZ_EDr__",
        "outputId": "cd643729-71ab-4ad1-f81d-a232cf54f873"
      },
      "source": [
        "# grab all image paths in the input dataset directory, then initialize\n",
        "\n",
        "# our list of images and corresponding class labels \n",
        "print(\"[INFO] loading images...\")\n",
        "imagePaths = paths.list_images(\"3scene\")\n",
        "data = []\n",
        "labels = []"
      ],
      "execution_count": 46,
      "outputs": [
        {
          "output_type": "stream",
          "text": [
            "[INFO] loading images...\n"
          ],
          "name": "stdout"
        }
      ]
    },
    {
      "cell_type": "code",
      "metadata": {
        "id": "nxnLYxnoD3Gv"
      },
      "source": [
        "# loop over our input images\n",
        "\n",
        "for imagePath in imagePaths:\n",
        "  # load the input image from disk, resize it to 64x64 pixels, scale \n",
        "  # the pixel intensities to the range [0, 1], and then update our\n",
        "  # images list\n",
        "  image = Image.open(imagePath)\n",
        "  #preprocessing\n",
        "  image = np.array(image.resize((64, 64))) / 255.0\n",
        "  data.append(image)\n",
        "\n",
        "  # extract the class label from the file path and update the\n",
        "  # labels list\n",
        "  label = imagePath.split(os.path. sep)[-2] \n",
        "  labels.append(label)"
      ],
      "execution_count": 47,
      "outputs": []
    },
    {
      "cell_type": "code",
      "metadata": {
        "colab": {
          "base_uri": "https://localhost:8080/"
        },
        "id": "RQ9loa4ED32R",
        "outputId": "b918f1c5-33f8-4738-ab4c-d9f0b4d1e696"
      },
      "source": [
        "print(labels)"
      ],
      "execution_count": 48,
      "outputs": [
        {
          "output_type": "stream",
          "text": [
            "['coast', 'coast', 'coast', 'coast', 'coast', 'coast', 'coast', 'coast', 'coast', 'coast', 'coast', 'coast', 'coast', 'coast', 'coast', 'coast', 'coast', 'coast', 'coast', 'coast', 'coast', 'coast', 'coast', 'coast', 'coast', 'coast', 'coast', 'coast', 'coast', 'coast', 'coast', 'coast', 'coast', 'coast', 'coast', 'coast', 'coast', 'coast', 'coast', 'coast', 'coast', 'coast', 'coast', 'coast', 'coast', 'coast', 'coast', 'coast', 'coast', 'coast', 'coast', 'coast', 'coast', 'coast', 'coast', 'coast', 'coast', 'coast', 'coast', 'coast', 'coast', 'coast', 'coast', 'coast', 'coast', 'coast', 'coast', 'coast', 'coast', 'coast', 'coast', 'coast', 'coast', 'coast', 'coast', 'coast', 'coast', 'coast', 'coast', 'coast', 'coast', 'coast', 'coast', 'coast', 'coast', 'coast', 'coast', 'coast', 'coast', 'coast', 'coast', 'coast', 'coast', 'coast', 'coast', 'coast', 'coast', 'coast', 'coast', 'coast', 'coast', 'coast', 'coast', 'coast', 'coast', 'coast', 'coast', 'coast', 'coast', 'coast', 'coast', 'coast', 'coast', 'coast', 'coast', 'coast', 'coast', 'coast', 'coast', 'coast', 'coast', 'coast', 'coast', 'coast', 'coast', 'coast', 'coast', 'coast', 'coast', 'coast', 'coast', 'coast', 'coast', 'coast', 'coast', 'coast', 'coast', 'coast', 'coast', 'coast', 'coast', 'coast', 'coast', 'coast', 'coast', 'coast', 'coast', 'coast', 'coast', 'coast', 'coast', 'coast', 'coast', 'coast', 'coast', 'coast', 'coast', 'coast', 'coast', 'coast', 'coast', 'coast', 'coast', 'coast', 'coast', 'coast', 'coast', 'coast', 'coast', 'coast', 'coast', 'coast', 'coast', 'coast', 'coast', 'coast', 'coast', 'coast', 'coast', 'coast', 'coast', 'coast', 'coast', 'coast', 'coast', 'coast', 'coast', 'coast', 'coast', 'coast', 'coast', 'coast', 'coast', 'coast', 'coast', 'coast', 'coast', 'coast', 'coast', 'coast', 'coast', 'coast', 'coast', 'coast', 'coast', 'coast', 'coast', 'coast', 'coast', 'coast', 'coast', 'coast', 'coast', 'coast', 'coast', 'coast', 'coast', 'coast', 'coast', 'coast', 'coast', 'coast', 'coast', 'coast', 'coast', 'coast', 'coast', 'coast', 'coast', 'coast', 'coast', 'coast', 'coast', 'coast', 'coast', 'coast', 'coast', 'coast', 'coast', 'coast', 'coast', 'coast', 'coast', 'coast', 'coast', 'coast', 'coast', 'coast', 'coast', 'coast', 'coast', 'coast', 'coast', 'coast', 'coast', 'coast', 'coast', 'coast', 'coast', 'coast', 'coast', 'coast', 'coast', 'coast', 'coast', 'coast', 'coast', 'coast', 'coast', 'coast', 'coast', 'coast', 'coast', 'coast', 'coast', 'coast', 'coast', 'coast', 'coast', 'coast', 'coast', 'coast', 'coast', 'coast', 'coast', 'coast', 'coast', 'coast', 'coast', 'coast', 'coast', 'coast', 'coast', 'coast', 'coast', 'coast', 'coast', 'coast', 'coast', 'coast', 'coast', 'coast', 'coast', 'coast', 'coast', 'coast', 'coast', 'coast', 'coast', 'coast', 'coast', 'coast', 'coast', 'coast', 'coast', 'coast', 'coast', 'coast', 'coast', 'coast', 'coast', 'coast', 'coast', 'coast', 'coast', 'coast', 'coast', 'coast', 'coast', 'coast', 'coast', 'coast', 'coast', 'coast', 'coast', 'coast', 'coast', 'coast', 'coast', 'coast', 'coast', 'coast', 'coast', 'coast', 'coast', 'coast', 'coast', 'coast', 'coast', 'coast', 'coast', 'coast', 'coast', 'coast', 'coast', 'coast', 'coast', 'coast', 'coast', 'coast', 'forest', 'forest', 'forest', 'forest', 'forest', 'forest', 'forest', 'forest', 'forest', 'forest', 'forest', 'forest', 'forest', 'forest', 'forest', 'forest', 'forest', 'forest', 'forest', 'forest', 'forest', 'forest', 'forest', 'forest', 'forest', 'forest', 'forest', 'forest', 'forest', 'forest', 'forest', 'forest', 'forest', 'forest', 'forest', 'forest', 'forest', 'forest', 'forest', 'forest', 'forest', 'forest', 'forest', 'forest', 'forest', 'forest', 'forest', 'forest', 'forest', 'forest', 'forest', 'forest', 'forest', 'forest', 'forest', 'forest', 'forest', 'forest', 'forest', 'forest', 'forest', 'forest', 'forest', 'forest', 'forest', 'forest', 'forest', 'forest', 'forest', 'forest', 'forest', 'forest', 'forest', 'forest', 'forest', 'forest', 'forest', 'forest', 'forest', 'forest', 'forest', 'forest', 'forest', 'forest', 'forest', 'forest', 'forest', 'forest', 'forest', 'forest', 'forest', 'forest', 'forest', 'forest', 'forest', 'forest', 'forest', 'forest', 'forest', 'forest', 'forest', 'forest', 'forest', 'forest', 'forest', 'forest', 'forest', 'forest', 'forest', 'forest', 'forest', 'forest', 'forest', 'forest', 'forest', 'forest', 'forest', 'forest', 'forest', 'forest', 'forest', 'forest', 'forest', 'forest', 'forest', 'forest', 'forest', 'forest', 'forest', 'forest', 'forest', 'forest', 'forest', 'forest', 'forest', 'forest', 'forest', 'forest', 'forest', 'forest', 'forest', 'forest', 'forest', 'forest', 'forest', 'forest', 'forest', 'forest', 'forest', 'forest', 'forest', 'forest', 'forest', 'forest', 'forest', 'forest', 'forest', 'forest', 'forest', 'forest', 'forest', 'forest', 'forest', 'forest', 'forest', 'forest', 'forest', 'forest', 'forest', 'forest', 'forest', 'forest', 'forest', 'forest', 'forest', 'forest', 'forest', 'forest', 'forest', 'forest', 'forest', 'forest', 'forest', 'forest', 'forest', 'forest', 'forest', 'forest', 'forest', 'forest', 'forest', 'forest', 'forest', 'forest', 'forest', 'forest', 'forest', 'forest', 'forest', 'forest', 'forest', 'forest', 'forest', 'forest', 'forest', 'forest', 'forest', 'forest', 'forest', 'forest', 'forest', 'forest', 'forest', 'forest', 'forest', 'forest', 'forest', 'forest', 'forest', 'forest', 'forest', 'forest', 'forest', 'forest', 'forest', 'forest', 'forest', 'forest', 'forest', 'forest', 'forest', 'forest', 'forest', 'forest', 'forest', 'forest', 'forest', 'forest', 'forest', 'forest', 'forest', 'forest', 'forest', 'forest', 'forest', 'forest', 'forest', 'forest', 'forest', 'forest', 'forest', 'forest', 'forest', 'forest', 'forest', 'forest', 'forest', 'forest', 'forest', 'forest', 'forest', 'forest', 'forest', 'forest', 'forest', 'forest', 'forest', 'forest', 'forest', 'forest', 'forest', 'forest', 'forest', 'forest', 'forest', 'forest', 'forest', 'forest', 'forest', 'forest', 'forest', 'forest', 'forest', 'forest', 'forest', 'forest', 'forest', 'forest', 'forest', 'forest', 'forest', 'forest', 'forest', 'forest', 'forest', 'forest', 'forest', 'forest', 'forest', 'forest', 'forest', 'forest', 'forest', 'forest', 'forest', 'forest', 'forest', 'forest', 'forest', 'forest', 'forest', 'forest', 'forest', 'forest', 'forest', 'forest', 'forest', 'forest', 'forest', 'forest', 'forest', 'forest', 'forest', 'forest', 'forest', 'forest', 'forest', 'forest', 'highway', 'highway', 'highway', 'highway', 'highway', 'highway', 'highway', 'highway', 'highway', 'highway', 'highway', 'highway', 'highway', 'highway', 'highway', 'highway', 'highway', 'highway', 'highway', 'highway', 'highway', 'highway', 'highway', 'highway', 'highway', 'highway', 'highway', 'highway', 'highway', 'highway', 'highway', 'highway', 'highway', 'highway', 'highway', 'highway', 'highway', 'highway', 'highway', 'highway', 'highway', 'highway', 'highway', 'highway', 'highway', 'highway', 'highway', 'highway', 'highway', 'highway', 'highway', 'highway', 'highway', 'highway', 'highway', 'highway', 'highway', 'highway', 'highway', 'highway', 'highway', 'highway', 'highway', 'highway', 'highway', 'highway', 'highway', 'highway', 'highway', 'highway', 'highway', 'highway', 'highway', 'highway', 'highway', 'highway', 'highway', 'highway', 'highway', 'highway', 'highway', 'highway', 'highway', 'highway', 'highway', 'highway', 'highway', 'highway', 'highway', 'highway', 'highway', 'highway', 'highway', 'highway', 'highway', 'highway', 'highway', 'highway', 'highway', 'highway', 'highway', 'highway', 'highway', 'highway', 'highway', 'highway', 'highway', 'highway', 'highway', 'highway', 'highway', 'highway', 'highway', 'highway', 'highway', 'highway', 'highway', 'highway', 'highway', 'highway', 'highway', 'highway', 'highway', 'highway', 'highway', 'highway', 'highway', 'highway', 'highway', 'highway', 'highway', 'highway', 'highway', 'highway', 'highway', 'highway', 'highway', 'highway', 'highway', 'highway', 'highway', 'highway', 'highway', 'highway', 'highway', 'highway', 'highway', 'highway', 'highway', 'highway', 'highway', 'highway', 'highway', 'highway', 'highway', 'highway', 'highway', 'highway', 'highway', 'highway', 'highway', 'highway', 'highway', 'highway', 'highway', 'highway', 'highway', 'highway', 'highway', 'highway', 'highway', 'highway', 'highway', 'highway', 'highway', 'highway', 'highway', 'highway', 'highway', 'highway', 'highway', 'highway', 'highway', 'highway', 'highway', 'highway', 'highway', 'highway', 'highway', 'highway', 'highway', 'highway', 'highway', 'highway', 'highway', 'highway', 'highway', 'highway', 'highway', 'highway', 'highway', 'highway', 'highway', 'highway', 'highway', 'highway', 'highway', 'highway', 'highway', 'highway', 'highway', 'highway', 'highway', 'highway', 'highway', 'highway', 'highway', 'highway', 'highway', 'highway', 'highway', 'highway', 'highway', 'highway', 'highway', 'highway', 'highway', 'highway', 'highway', 'highway', 'highway', 'highway', 'highway', 'highway', 'highway', 'highway', 'highway', 'highway', 'highway', 'highway', 'highway', 'highway', 'highway', 'highway', 'highway', 'highway', 'highway', 'highway', 'highway', 'highway', 'highway', 'highway', 'highway', 'highway', 'highway', 'highway', 'highway', 'highway', 'highway', 'highway']\n"
          ],
          "name": "stdout"
        }
      ]
    },
    {
      "cell_type": "code",
      "metadata": {
        "id": "BvFJmR8vD5-T"
      },
      "source": [
        "# encode the labels, converting them from strings to integers \n",
        "lb = LabelBinarizer()\n",
        "labels = lb.fit_transform(labels)"
      ],
      "execution_count": 49,
      "outputs": []
    },
    {
      "cell_type": "code",
      "metadata": {
        "colab": {
          "base_uri": "https://localhost:8080/"
        },
        "id": "HQ_L4OcwEQ8T",
        "outputId": "c63576f6-08cc-472c-de44-7be87eb6834a"
      },
      "source": [
        "print(labels)"
      ],
      "execution_count": 50,
      "outputs": [
        {
          "output_type": "stream",
          "text": [
            "[[1 0 0]\n",
            " [1 0 0]\n",
            " [1 0 0]\n",
            " ...\n",
            " [0 0 1]\n",
            " [0 0 1]\n",
            " [0 0 1]]\n"
          ],
          "name": "stdout"
        }
      ]
    },
    {
      "cell_type": "code",
      "metadata": {
        "colab": {
          "base_uri": "https://localhost:8080/"
        },
        "id": "cOrTavGVEfqv",
        "outputId": "cfd5c375-ad69-4aec-a0d0-b2eeb8487831"
      },
      "source": [
        "# perform a troining and testing split, using 75% of the data for \n",
        "# training and 25% for evaluation\n",
        "\n",
        "(trainX, testX, trainY, testY) = train_test_split(np.array(data), np.array(labels), test_size=0.25, shuffle=True)\n",
        "print(trainX.shape)\n",
        "print(testX.shape)"
      ],
      "execution_count": 51,
      "outputs": [
        {
          "output_type": "stream",
          "text": [
            "(711, 64, 64, 3)\n",
            "(237, 64, 64, 3)\n"
          ],
          "name": "stdout"
        }
      ]
    },
    {
      "cell_type": "code",
      "metadata": {
        "id": "d5rDtvQmEiwz"
      },
      "source": [
        "from keras.models import Sequential\n",
        "from keras.layers.core import Flatten\n",
        "from keras.layers.core import Dense\n",
        "\n",
        "model = Sequential (\n",
        "    [\n",
        "        Flatten(input_shape=(64*64*3,)),\n",
        "        Dense(100, activation=\"relu\", name=\"layer1\"),\n",
        "        Dense(16, activation=\"relu\", name=\"layer2\"),\n",
        "        Dense(16, activation=\"relu\", name=\"layer3\"),\n",
        "        Dense(3, activation = \"softmax\", name=\"layer4\"),\n",
        "    ]\n",
        ")"
      ],
      "execution_count": 52,
      "outputs": []
    },
    {
      "cell_type": "code",
      "metadata": {
        "colab": {
          "base_uri": "https://localhost:8080/"
        },
        "id": "8oQwh9aFEl38",
        "outputId": "a3b38791-8e97-4694-d229-be220e0a3126"
      },
      "source": [
        "model.summary()"
      ],
      "execution_count": 53,
      "outputs": [
        {
          "output_type": "stream",
          "text": [
            "Model: \"sequential_2\"\n",
            "_________________________________________________________________\n",
            "Layer (type)                 Output Shape              Param #   \n",
            "=================================================================\n",
            "flatten_2 (Flatten)          (None, 12288)             0         \n",
            "_________________________________________________________________\n",
            "layer1 (Dense)               (None, 100)               1228900   \n",
            "_________________________________________________________________\n",
            "layer2 (Dense)               (None, 16)                1616      \n",
            "_________________________________________________________________\n",
            "layer3 (Dense)               (None, 16)                272       \n",
            "_________________________________________________________________\n",
            "layer4 (Dense)               (None, 3)                 51        \n",
            "=================================================================\n",
            "Total params: 1,230,839\n",
            "Trainable params: 1,230,839\n",
            "Non-trainable params: 0\n",
            "_________________________________________________________________\n"
          ],
          "name": "stdout"
        }
      ]
    },
    {
      "cell_type": "code",
      "metadata": {
        "id": "9hmP4JjpGZO7",
        "colab": {
          "base_uri": "https://localhost:8080/"
        },
        "outputId": "5627a4ca-b307-4a8a-d970-4368d502afd6"
      },
      "source": [
        "   # train the model using the Adam optimizer\n",
        "print(\"[INFO] training network...\")\n",
        "opt = Adam(lr=1e-3, decay=1e-3 / 50)\n",
        "model.compile(loss=\"categorical_crossentropy\", optimizer=opt, metrics=[\"accuracy\"])\n",
        "\n",
        "H = model.fit(trainX, trainY, validation_data=(testX, testY), epochs=25, batch_size=32)"
      ],
      "execution_count": 54,
      "outputs": [
        {
          "output_type": "stream",
          "text": [
            "[INFO] training network...\n",
            "Epoch 1/25\n",
            "WARNING:tensorflow:Model was constructed with shape (None, 12288) for input Tensor(\"flatten_2_input:0\", shape=(None, 12288), dtype=float32), but it was called on an input with incompatible shape (None, 64, 64, 3).\n",
            "WARNING:tensorflow:Model was constructed with shape (None, 12288) for input Tensor(\"flatten_2_input:0\", shape=(None, 12288), dtype=float32), but it was called on an input with incompatible shape (None, 64, 64, 3).\n",
            "18/23 [======================>.......] - ETA: 0s - loss: 1.2506 - accuracy: 0.3628WARNING:tensorflow:Model was constructed with shape (None, 12288) for input Tensor(\"flatten_2_input:0\", shape=(None, 12288), dtype=float32), but it was called on an input with incompatible shape (None, 64, 64, 3).\n",
            "23/23 [==============================] - 1s 24ms/step - loss: 1.2218 - accuracy: 0.3966 - val_loss: 1.5325 - val_accuracy: 0.4768\n",
            "Epoch 2/25\n",
            "23/23 [==============================] - 0s 11ms/step - loss: 1.1242 - accuracy: 0.4866 - val_loss: 0.9954 - val_accuracy: 0.4177\n",
            "Epoch 3/25\n",
            "23/23 [==============================] - 0s 11ms/step - loss: 0.9926 - accuracy: 0.4824 - val_loss: 0.9384 - val_accuracy: 0.5316\n",
            "Epoch 4/25\n",
            "23/23 [==============================] - 0s 11ms/step - loss: 0.8139 - accuracy: 0.6582 - val_loss: 0.9396 - val_accuracy: 0.5570\n",
            "Epoch 5/25\n",
            "23/23 [==============================] - 0s 11ms/step - loss: 0.7356 - accuracy: 0.7173 - val_loss: 0.8864 - val_accuracy: 0.6203\n",
            "Epoch 6/25\n",
            "23/23 [==============================] - 0s 11ms/step - loss: 0.6870 - accuracy: 0.7257 - val_loss: 0.8689 - val_accuracy: 0.5738\n",
            "Epoch 7/25\n",
            "23/23 [==============================] - 0s 11ms/step - loss: 0.7557 - accuracy: 0.6751 - val_loss: 0.7164 - val_accuracy: 0.6920\n",
            "Epoch 8/25\n",
            "23/23 [==============================] - 0s 11ms/step - loss: 0.6483 - accuracy: 0.7384 - val_loss: 0.7362 - val_accuracy: 0.7131\n",
            "Epoch 9/25\n",
            "23/23 [==============================] - 0s 12ms/step - loss: 0.5865 - accuracy: 0.7736 - val_loss: 0.7031 - val_accuracy: 0.7384\n",
            "Epoch 10/25\n",
            "23/23 [==============================] - 0s 11ms/step - loss: 0.6101 - accuracy: 0.7637 - val_loss: 0.8135 - val_accuracy: 0.6203\n",
            "Epoch 11/25\n",
            "23/23 [==============================] - 0s 11ms/step - loss: 0.6316 - accuracy: 0.7271 - val_loss: 0.6919 - val_accuracy: 0.7257\n",
            "Epoch 12/25\n",
            "23/23 [==============================] - 0s 12ms/step - loss: 0.5511 - accuracy: 0.7961 - val_loss: 0.6778 - val_accuracy: 0.7384\n",
            "Epoch 13/25\n",
            "23/23 [==============================] - 0s 11ms/step - loss: 0.5119 - accuracy: 0.8129 - val_loss: 0.6983 - val_accuracy: 0.7215\n",
            "Epoch 14/25\n",
            "23/23 [==============================] - 0s 12ms/step - loss: 0.5230 - accuracy: 0.8003 - val_loss: 0.8445 - val_accuracy: 0.6076\n",
            "Epoch 15/25\n",
            "23/23 [==============================] - 0s 11ms/step - loss: 0.5284 - accuracy: 0.7947 - val_loss: 0.7649 - val_accuracy: 0.7131\n",
            "Epoch 16/25\n",
            "23/23 [==============================] - 0s 11ms/step - loss: 0.5084 - accuracy: 0.8017 - val_loss: 0.7147 - val_accuracy: 0.7257\n",
            "Epoch 17/25\n",
            "23/23 [==============================] - 0s 11ms/step - loss: 0.4366 - accuracy: 0.8383 - val_loss: 0.7068 - val_accuracy: 0.7342\n",
            "Epoch 18/25\n",
            "23/23 [==============================] - 0s 11ms/step - loss: 0.4411 - accuracy: 0.8326 - val_loss: 0.6953 - val_accuracy: 0.7468\n",
            "Epoch 19/25\n",
            "23/23 [==============================] - 0s 10ms/step - loss: 0.4425 - accuracy: 0.8326 - val_loss: 0.7062 - val_accuracy: 0.7131\n",
            "Epoch 20/25\n",
            "23/23 [==============================] - 0s 11ms/step - loss: 0.3963 - accuracy: 0.8622 - val_loss: 0.6943 - val_accuracy: 0.7173\n",
            "Epoch 21/25\n",
            "23/23 [==============================] - 0s 11ms/step - loss: 0.4259 - accuracy: 0.8298 - val_loss: 0.9011 - val_accuracy: 0.6667\n",
            "Epoch 22/25\n",
            "23/23 [==============================] - 0s 11ms/step - loss: 0.4471 - accuracy: 0.8214 - val_loss: 0.7844 - val_accuracy: 0.6878\n",
            "Epoch 23/25\n",
            "23/23 [==============================] - 0s 12ms/step - loss: 0.4421 - accuracy: 0.8256 - val_loss: 0.7678 - val_accuracy: 0.7257\n",
            "Epoch 24/25\n",
            "23/23 [==============================] - 0s 11ms/step - loss: 0.3848 - accuracy: 0.8608 - val_loss: 0.7190 - val_accuracy: 0.7257\n",
            "Epoch 25/25\n",
            "23/23 [==============================] - 0s 11ms/step - loss: 0.3586 - accuracy: 0.8608 - val_loss: 0.7319 - val_accuracy: 0.7342\n"
          ],
          "name": "stdout"
        }
      ]
    },
    {
      "cell_type": "code",
      "metadata": {
        "id": "98ZAnbe8EoeD",
        "colab": {
          "base_uri": "https://localhost:8080/",
          "height": 590
        },
        "outputId": "85058c61-3b9e-46a6-8d33-4e820b851539"
      },
      "source": [
        "import matplotlib.pyplot as plt\n",
        "\n",
        "print(H.history.keys()) \n",
        "# summarize history for accuracy\n",
        "plt.plot(H.history['accuracy']) \n",
        "plt.plot(H.history['val_accuracy'])\n",
        "plt.title('model accuracy') \n",
        "plt.ylabel('accuracy')\n",
        "plt.xlabel('epoch') \n",
        "plt.legend(['train', 'test'], loc='upper left')\n",
        "plt.show()\n",
        "# summarize history for loss \n",
        "plt.plot(H.history['loss']) \n",
        "plt.plot(H.history['val_loss'])\n",
        "plt.title('model loss')\n",
        "plt.ylabel('loss')\n",
        "plt.xlabel('epoch')\n",
        "plt.legend(['train','test'], loc='upper left')\n",
        "plt.show()"
      ],
      "execution_count": 55,
      "outputs": [
        {
          "output_type": "stream",
          "text": [
            "dict_keys(['loss', 'accuracy', 'val_loss', 'val_accuracy'])\n"
          ],
          "name": "stdout"
        },
        {
          "output_type": "display_data",
          "data": {
            "image/png": "[encoded data removed]",
            "text/plain": [
              "<Figure size 432x288 with 1 Axes>"
            ]
          },
          "metadata": {
            "tags": [],
            "needs_background": "light"
          }
        },
        {
          "output_type": "display_data",
          "data": {
            "image/png": "[encoded data removed]",
            "text/plain": [
              "<Figure size 432x288 with 1 Axes>"
            ]
          },
          "metadata": {
            "tags": [],
            "needs_background": "light"
          }
        }
      ]
    },
    {
      "cell_type": "code",
      "metadata": {
        "colab": {
          "base_uri": "https://localhost:8080/"
        },
        "id": "jw3MiRoxEszY",
        "outputId": "51c64c51-ca80-4da0-e093-b0ff9b1987a3"
      },
      "source": [
        "# evaluate the network\n",
        "print(\"[INFO] evaluating network...\") \n",
        "predictions = model.predict(testX, batch_size=32) \n",
        "print(classification_report(testY.argmax (axis=1),\n",
        "  predictions.argmax(axis=1), target_names=lb.classes_))"
      ],
      "execution_count": 56,
      "outputs": [
        {
          "output_type": "stream",
          "text": [
            "[INFO] evaluating network...\n",
            "WARNING:tensorflow:Model was constructed with shape (None, 12288) for input Tensor(\"flatten_2_input:0\", shape=(None, 12288), dtype=float32), but it was called on an input with incompatible shape (None, 64, 64, 3).\n",
            "              precision    recall  f1-score   support\n",
            "\n",
            "       coast       0.86      0.61      0.71        98\n",
            "      forest       0.80      0.82      0.81        80\n",
            "     highway       0.57      0.81      0.67        59\n",
            "\n",
            "    accuracy                           0.73       237\n",
            "   macro avg       0.74      0.75      0.73       237\n",
            "weighted avg       0.77      0.73      0.74       237\n",
            "\n"
          ],
          "name": "stdout"
        }
      ]
    },
    {
      "cell_type": "code",
      "metadata": {
        "colab": {
          "base_uri": "https://localhost:8080/"
        },
        "id": "H0O-lmkjEv0k",
        "outputId": "b7140a32-5d23-4040-f2da-e1d68aa4998e"
      },
      "source": [
        "model.save('model_scene')"
      ],
      "execution_count": 57,
      "outputs": [
        {
          "output_type": "stream",
          "text": [
            "INFO:tensorflow:Assets written to: model_scene/assets\n"
          ],
          "name": "stdout"
        }
      ]
    },
    {
      "cell_type": "code",
      "metadata": {
        "id": "M4s4ZBKkExv1"
      },
      "source": [
        "import cv2\n",
        "import matplotlib.pyplot as plt\n",
        "image1='Arion.jpg'"
      ],
      "execution_count": 58,
      "outputs": []
    },
    {
      "cell_type": "code",
      "metadata": {
        "colab": {
          "base_uri": "https://localhost:8080/",
          "height": 269
        },
        "id": "5sLkPP4hE0WC",
        "outputId": "326dd16b-5e29-4e36-edec-88c4b490460b"
      },
      "source": [
        "img_array = cv2.imread(image1)\n",
        "plt.imshow(img_array)\n",
        "plt.show()\n",
        "# print(type(img_array))"
      ],
      "execution_count": 59,
      "outputs": [
        {
          "output_type": "display_data",
          "data": {
            "image/png": "[encoded data removed]",
            "text/plain": [
              "<Figure size 432x288 with 1 Axes>"
            ]
          },
          "metadata": {
            "tags": [],
            "needs_background": "light"
          }
        }
      ]
    },
    {
      "cell_type": "code",
      "metadata": {
        "colab": {
          "base_uri": "https://localhost:8080/"
        },
        "id": "uPXowGO6E5aR",
        "outputId": "8693d778-f718-4413-af5a-119f9d6ea937"
      },
      "source": [
        "image_testing = Image.open ('Arion.jpg')\n",
        "image_testing = np.array(image_testing.resize((64,64))) / 255.0\n",
        "image_testing.shape"
      ],
      "execution_count": 60,
      "outputs": [
        {
          "output_type": "execute_result",
          "data": {
            "text/plain": [
              "(64, 64, 3)"
            ]
          },
          "metadata": {
            "tags": []
          },
          "execution_count": 60
        }
      ]
    },
    {
      "cell_type": "code",
      "metadata": {
        "colab": {
          "base_uri": "https://localhost:8080/"
        },
        "id": "KekraI1XE5-X",
        "outputId": "611af8f2-314c-4033-e60f-22904ce3c488"
      },
      "source": [
        "image_testing = np.expand_dims(image_testing, axis=0)\n",
        "print(image_testing.shape)"
      ],
      "execution_count": 61,
      "outputs": [
        {
          "output_type": "stream",
          "text": [
            "(1, 64, 64, 3)\n"
          ],
          "name": "stdout"
        }
      ]
    },
    {
      "cell_type": "code",
      "metadata": {
        "colab": {
          "base_uri": "https://localhost:8080/"
        },
        "id": "T1ttTtMnE8UM",
        "outputId": "dd3b72b7-e83f-49cc-b9a5-1fee22147009"
      },
      "source": [
        "output = model.predict(image_testing, 1)\n",
        "print(output)\n",
        "print(lb.classes_[output.argmax(axis=1)])"
      ],
      "execution_count": 62,
      "outputs": [
        {
          "output_type": "stream",
          "text": [
            "WARNING:tensorflow:Model was constructed with shape (None, 12288) for input Tensor(\"flatten_2_input:0\", shape=(None, 12288), dtype=float32), but it was called on an input with incompatible shape (1, 64, 64, 3).\n",
            "[[0.2790366  0.71654844 0.00441497]]\n",
            "['forest']\n"
          ],
          "name": "stdout"
        }
      ]
    }
  ]
}
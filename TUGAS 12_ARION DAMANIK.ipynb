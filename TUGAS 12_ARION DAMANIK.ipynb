{
  "nbformat": 4,
  "nbformat_minor": 0,
  "metadata": {
    "colab": {
      "name": "Copy of pythonming12.ipynb",
      "provenance": [],
      "include_colab_link": true
    },
    "kernelspec": {
      "name": "python3",
      "display_name": "Python 3"
    }
  },
  "cells": [
    {
      "cell_type": "markdown",
      "metadata": {
        "id": "view-in-github",
        "colab_type": "text"
      },
      "source": [
        "<a href=\"https://colab.research.google.com/github/ariondmk/Arion-Damanik/blob/main/TUGAS%2012_ARION%20DAMANIK.ipynb\" target=\"_parent\"><img src=\"https://colab.research.google.com/assets/colab-badge.svg\" alt=\"Open In Colab\"/></a>"
      ]
    },
    {
      "cell_type": "code",
      "metadata": {
        "id": "oL6mevhrNQ50"
      },
      "source": [
        "import numpy as np"
      ],
      "execution_count": 1,
      "outputs": []
    },
    {
      "cell_type": "code",
      "metadata": {
        "id": "jD21HtdbNiTx"
      },
      "source": [
        "def C1(x) : \r\n",
        "    if x >= 400 and x <= 1500 :\r\n",
        "        return 69.55\r\n",
        "    elif x > 1500 and x <= 2000 :\r\n",
        "        return 46.3"
      ],
      "execution_count": 3,
      "outputs": []
    },
    {
      "cell_type": "code",
      "metadata": {
        "colab": {
          "base_uri": "https://localhost:8080/"
        },
        "id": "iqfaj0hzNnP4",
        "outputId": "afe72c6a-a740-452f-ad19-5dd86f5d4577"
      },
      "source": [
        "oc1=C1(500)\r\n",
        "print(oc1)"
      ],
      "execution_count": 5,
      "outputs": [
        {
          "output_type": "stream",
          "text": [
            "69.55\n"
          ],
          "name": "stdout"
        }
      ]
    },
    {
      "cell_type": "code",
      "metadata": {
        "id": "cXem9vVyNwJo"
      },
      "source": [
        "def C2(x) : \r\n",
        "    if x >= 400 and x <= 1500 :\r\n",
        "        return 26.16\r\n",
        "    elif x > 1500 and x <= 2000 :\r\n",
        "        return 33.9"
      ],
      "execution_count": 6,
      "outputs": []
    },
    {
      "cell_type": "code",
      "metadata": {
        "colab": {
          "base_uri": "https://localhost:8080/"
        },
        "id": "CSS_zwiqNxZ3",
        "outputId": "4070a56e-cb19-4bbd-bcfb-bb58876e91af"
      },
      "source": [
        "oc2=C2(500)\r\n",
        "print(oc2)"
      ],
      "execution_count": 7,
      "outputs": [
        {
          "output_type": "stream",
          "text": [
            "26.16\n"
          ],
          "name": "stdout"
        }
      ]
    },
    {
      "cell_type": "code",
      "metadata": {
        "id": "PJ_8lZUXN7Xh"
      },
      "source": [
        "def a(x, y) : \r\n",
        "    return (((1.1*np.log10(y))-0.7)*x) - ((1.56*np.log10(y))-0.8)"
      ],
      "execution_count": 8,
      "outputs": []
    },
    {
      "cell_type": "code",
      "metadata": {
        "colab": {
          "base_uri": "https://localhost:8080/"
        },
        "id": "aYHvDujrN8yY",
        "outputId": "a726ad16-7950-4c4b-c3eb-5dee174dd29d"
      },
      "source": [
        "oa=a(50,50)\r\n",
        "print(oa)"
      ],
      "execution_count": 10,
      "outputs": [
        {
          "output_type": "stream",
          "text": [
            "56.59295703171685\n"
          ],
          "name": "stdout"
        }
      ]
    },
    {
      "cell_type": "code",
      "metadata": {
        "id": "xTfTisPBOCzP"
      },
      "source": [
        "def Cm(type, y) : \r\n",
        "    if type == 1 :\r\n",
        "        return 0\r\n",
        "    elif type == 2 :\r\n",
        "        return (-2*((np.log10(y/28))**2))-54\r\n",
        "    else :\r\n",
        "        return (-4.78*((np.log10(y))**2))+(18.33*np.log10(y))-40.94"
      ],
      "execution_count": 11,
      "outputs": []
    },
    {
      "cell_type": "code",
      "metadata": {
        "colab": {
          "base_uri": "https://localhost:8080/"
        },
        "id": "JIsFodCXOGXv",
        "outputId": "6d8c0b56-9f10-42f8-a194-18dd56677bdf"
      },
      "source": [
        "ocm=Cm(3,25)\r\n",
        "print(ocm) "
      ],
      "execution_count": 14,
      "outputs": [
        {
          "output_type": "stream",
          "text": [
            "-24.65700900134532\n"
          ],
          "name": "stdout"
        }
      ]
    },
    {
      "cell_type": "code",
      "metadata": {
        "id": "rsLtUoyrSy0R"
      },
      "source": [
        "def PathLoss(d,f,Type_Cm,hT,hR) :\r\n",
        "  return C1(f)+(C2(f)*np.log10(f))-(13.83*np.log10(hT))-a(hR, f)+((44.9-(6.55*np.log10(hT)))*np.log10(d))+Cm(Type_Cm, f)"
      ],
      "execution_count": 13,
      "outputs": []
    },
    {
      "cell_type": "code",
      "metadata": {
        "colab": {
          "base_uri": "https://localhost:8080/"
        },
        "id": "YnBGfooiTU6I",
        "outputId": "1aa6ee8f-ef04-4b0c-f1ae-5ccc986c1b7b"
      },
      "source": [
        "PL=PathLoss(1000,1000,1,50,25)\r\n",
        "print(PL)"
      ],
      "execution_count": 15,
      "outputs": [
        {
          "output_type": "stream",
          "text": [
            "164.72848425483008\n"
          ],
          "name": "stdout"
        }
      ]
    },
    {
      "cell_type": "markdown",
      "metadata": {
        "id": "K19WqGB6UsXP"
      },
      "source": [
        "SHANNON CAPACITY"
      ]
    }
  ]
}